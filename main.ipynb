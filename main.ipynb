{
 "cells": [
  {
   "cell_type": "code",
   "execution_count": 15,
   "metadata": {},
   "outputs": [],
   "source": [
    "import numpy as np\n",
    "import matplotlib.pyplot as plt\n",
    "from sklearn.model_selection import train_test_split\n",
    "import cv2\n",
    "import os"
   ]
  },
  {
   "cell_type": "markdown",
   "metadata": {},
   "source": [
    "### Path To Dataset\n",
    "\n"
   ]
  },
  {
   "cell_type": "code",
   "execution_count": 16,
   "metadata": {},
   "outputs": [],
   "source": [
    "dataset_path = 'data/brain-mri-images/brain_tumor_dataset'"
   ]
  },
  {
   "cell_type": "markdown",
   "metadata": {},
   "source": [
    "### Loading Dataset Images"
   ]
  },
  {
   "cell_type": "code",
   "execution_count": 17,
   "metadata": {},
   "outputs": [],
   "source": [
    "def load_images(data_path, img_size=(128, 128)):\n",
    "    images = []\n",
    "    labels = []\n",
    "\n",
    "    for label, class_name in enumerate(['no', 'yes']):\n",
    "        class_path = os.path.join(data_path, class_name)\n",
    "        for file in os.listdir(class_path):\n",
    "            img_path = os.path.join(class_path, file)\n",
    "            img = cv2.imread(img_path, cv2.IMREAD_GRAYSCALE)\n",
    "            img = cv2.resize(img, img_size)\n",
    "            images.append(img)\n",
    "            labels.append(label)\n",
    "    return np.array(images), np.array(labels)\n",
    "\n",
    "X,y = load_images(dataset_path)\n",
    "X = X / 255.0\n",
    "X = X.reshape(-1,128,128,1)\n",
    "\n",
    "\n",
    "    "
   ]
  },
  {
   "cell_type": "markdown",
   "metadata": {},
   "source": [
    "## Preproccesing Data"
   ]
  },
  {
   "cell_type": "code",
   "execution_count": 18,
   "metadata": {},
   "outputs": [],
   "source": [
    "\n",
    "def train_test_split_data(X, y, test_size=0.2, random_state=42):\n",
    "    X_train, X_test, y_train, y_test = train_test_split(X, y, test_size=test_size, random_state=random_state)\n",
    "    return X_train, X_test, y_train, y_test\n",
    "\n",
    "X_train, X_test, y_train, y_test = train_test_split_data(X, y)\n"
   ]
  },
  {
   "cell_type": "markdown",
   "metadata": {},
   "source": [
    "## Initializing Network Parameters"
   ]
  },
  {
   "cell_type": "code",
   "execution_count": 19,
   "metadata": {},
   "outputs": [],
   "source": [
    "def initialize_parameters():\n",
    "    parameters = {\n",
    "        \"W1\": np.random.randn(3, 3, 1, 32) * 0.01,\n",
    "        \"b1\": np.zeros((1, 1, 1, 32)),\n",
    "        \"W2\": np.random.randn(3, 3, 32, 64) * 0.01,\n",
    "        \"b2\": np.zeros((1, 1, 1, 64)),\n",
    "        \"W3\": np.random.randn(128, 64 * 6 * 6) * 0.01,\n",
    "        \"b3\": np.zeros((128, 1)),\n",
    "        \"W4\": np.random.randn(1, 128) * 0.01,\n",
    "        \"b4\": np.zeros((1, 1))\n",
    "    }\n",
    "    return parameters\n",
    "\n"
   ]
  },
  {
   "cell_type": "markdown",
   "metadata": {},
   "source": [
    "## Helper Functions"
   ]
  },
  {
   "cell_type": "code",
   "execution_count": 20,
   "metadata": {},
   "outputs": [],
   "source": [
    "def relu(Z):\n",
    "    return np.maximum(0, Z)\n",
    "\n",
    "def sigmoid(Z):\n",
    "    return 1 / (1 + np.exp(-Z))\n",
    "\n",
    "errorMessage = \"Invalid dimensions for convolution. Check the padding and stride values.\"\n",
    "\n",
    "def conv_forward(A_prev, W, b, stride=1, pad=0):\n",
    "    (m, n_H_prev, n_W_prev, n_C_prev) = A_prev.shape\n",
    "    (f, f, n_C_prev, n_C) = W.shape\n",
    "\n",
    "    n_H = int((n_H_prev - f + 2 * pad) / stride) + 1\n",
    "    n_W = int((n_W_prev - f + 2 * pad) / stride) + 1\n",
    "\n",
    "    if n_H <= 0 or n_W <= 0:\n",
    "        raise ValueError(errorMessage)\n",
    "\n",
    "    Z = np.zeros((m, n_H, n_W, n_C))\n",
    "\n",
    "    A_prev_pad = np.pad(A_prev, ((0, 0), (pad, pad), (pad, pad), (0, 0)),\n",
    "                        mode='constant', constant_values=(0, 0))\n",
    "\n",
    "    for i in range(m):\n",
    "        a_prev_pad = A_prev_pad[i]\n",
    "        for h in range(n_H):\n",
    "            for w in range(n_W):\n",
    "                for c in range(n_C):\n",
    "                    vert_start = h * stride\n",
    "                    vert_end = vert_start + f\n",
    "                    horiz_start = w * stride\n",
    "                    horiz_end = horiz_start + f\n",
    "\n",
    "                    a_slice_prev = a_prev_pad[vert_start:vert_end, horiz_start:horiz_end, :]\n",
    "\n",
    "                    Z[i, h, w, c] = np.sum(a_slice_prev * W[:, :, :, c]) + float(b[:, :, :, c])\n",
    "\n",
    "    return Z\n",
    "\n",
    "def pool_forward(A_prev, f=2, stride=2, mode='max'):\n",
    "    (m, n_H_prev, n_W_prev, n_C_prev) = A_prev.shape\n",
    "\n",
    "    n_H = int(1 + (n_H_prev - f) / stride)\n",
    "    n_W = int(1 + (n_W_prev - f) / stride)\n",
    "    n_C = n_C_prev\n",
    "\n",
    "    if n_H <= 0 or n_W <= 0:\n",
    "        raise ValueError(errorMessage)\n",
    "\n",
    "    A = np.zeros((m, n_H, n_W, n_C))\n",
    "\n",
    "    for i in range(m):\n",
    "        for h in range(n_H):\n",
    "            for w in range(n_W):\n",
    "                for c in range(n_C):\n",
    "                    vert_start = h * stride\n",
    "                    vert_end = vert_start + f\n",
    "                    horiz_start = w * stride\n",
    "                    horiz_end = horiz_start + f\n",
    "\n",
    "                    a_slice_prev = A_prev[i, vert_start:vert_end, horiz_start:horiz_end, c]\n",
    "\n",
    "                    if mode == 'max':\n",
    "                        A[i, h, w, c] = np.max(a_slice_prev)\n",
    "                    elif mode == 'average':\n",
    "                        A[i, h, w, c] = np.mean(a_slice_prev)\n",
    "\n",
    "    return A\n",
    "\n",
    "def flatten(A):\n",
    "    return A.reshape(A.shape[0], -1)\n",
    "\n",
    "def dense_forward(A_prev, W, b):\n",
    "    Z = np.dot(W, A_prev) + b\n",
    "    return Z\n",
    "\n",
    "\n",
    "def conv_backward(dZ, A_prev, W, b, stride=1, pad=0):\n",
    "    (m, n_H_prev, n_W_prev, n_C_prev) = A_prev.shape\n",
    "    (f, f, n_C_prev, n_C) = W.shape\n",
    "\n",
    "    (m, n_H, n_W, n_C) = dZ.shape\n",
    "\n",
    "    dA_prev = np.zeros((m, n_H_prev, n_W_prev, n_C_prev))\n",
    "    dW = np.zeros((f, f, n_C_prev, n_C))\n",
    "    db = np.zeros((1, 1, 1, n_C))\n",
    "\n",
    "    A_prev_pad = np.pad(A_prev, ((0, 0), (pad, pad), (pad, pad), (0, 0)), mode='constant', constant_values=(0, 0))\n",
    "    dA_prev_pad = np.pad(dA_prev, ((0, 0), (pad, pad), (pad, pad), (0, 0)), mode='constant', constant_values=(0, 0))\n",
    "\n",
    "    for i in range(m):\n",
    "        a_prev_pad = A_prev_pad[i]\n",
    "        da_prev_pad = dA_prev_pad[i]\n",
    "        for h in range(n_H):\n",
    "            for w in range(n_W):\n",
    "                for c in range(n_C):\n",
    "                    vert_start = h * stride\n",
    "                    vert_end = vert_start + f\n",
    "                    horiz_start = w * stride\n",
    "                    horiz_end = horiz_start + f\n",
    "\n",
    "                    a_slice = a_prev_pad[vert_start:vert_end, horiz_start:horiz_end, :]\n",
    "\n",
    "                    da_prev_pad[vert_start:vert_end, horiz_start:horiz_end, :] += W[:, :, :, c] * dZ[i, h, w, c]\n",
    "                    dW[:, :, :, c] += a_slice * dZ[i, h, w, c]\n",
    "                    db[:, :, :, c] += dZ[i, h, w, c]\n",
    "\n",
    "        if pad != 0:\n",
    "            dA_prev[i, :, :, :] = da_prev_pad[pad:-pad, pad:-pad, :]\n",
    "        else:\n",
    "            dA_prev[i, :, :, :] = da_prev_pad\n",
    "\n",
    "    return dA_prev, dW, db\n",
    "\n",
    "def pool_backward(dA, A_prev, f=2, stride=2, mode='max'):\n",
    "    (m, n_H_prev, n_W_prev, n_C_prev) = A_prev.shape\n",
    "    (m, n_H, n_W, n_C) = dA.shape\n",
    "\n",
    "    dA_prev = np.zeros(A_prev.shape)\n",
    "\n",
    "    for i in range(m):\n",
    "        a_prev = A_prev[i]\n",
    "        for h in range(n_H):\n",
    "            for w in range(n_W):\n",
    "                for c in range(n_C):\n",
    "                    vert_start = h * stride\n",
    "                    vert_end = vert_start + f\n",
    "                    horiz_start = w * stride\n",
    "                    horiz_end = horiz_start + f\n",
    "\n",
    "                    if mode == 'max':\n",
    "                        a_prev_slice = a_prev[vert_start:vert_end, horiz_start:horiz_end, c]\n",
    "                        mask = (a_prev_slice == np.max(a_prev_slice))\n",
    "                        dA_prev[i, vert_start:vert_end, horiz_start:horiz_end, c] += mask * dA[i, h, w, c]\n",
    "                    elif mode == 'average':\n",
    "                        da = dA[i, h, w, c]\n",
    "                        shape = (f, f)\n",
    "                        dA_prev[i, vert_start:vert_end, horiz_start:horiz_end, c] += da / (f * f)\n",
    "\n",
    "    return dA_prev\n",
    "\n",
    "\n"
   ]
  },
  {
   "cell_type": "markdown",
   "metadata": {},
   "source": [
    "## Propagation"
   ]
  },
  {
   "cell_type": "code",
   "execution_count": 21,
   "metadata": {},
   "outputs": [],
   "source": [
    "def forward_propagation(X, parameters):\n",
    "    W1, b1 = parameters[\"W1\"], parameters[\"b1\"]\n",
    "    W2, b2 = parameters[\"W2\"], parameters[\"b2\"]\n",
    "    W3, b3 = parameters[\"W3\"], parameters[\"b3\"]\n",
    "    W4, b4 = parameters[\"W4\"], parameters[\"b4\"]\n",
    "\n",
    "    Z1 = conv_forward(X, W1, b1)\n",
    "    A1 = relu(Z1)\n",
    "    P1 = pool_forward(A1)\n",
    "\n",
    "    Z2 = conv_forward(P1, W2, b2)\n",
    "    A2 = relu(Z2)\n",
    "    P2 = pool_forward(A2)\n",
    "\n",
    "    F = flatten(P2)\n",
    "\n",
    "    Z3 = dense_forward(F, W3, b3)\n",
    "    A3 = relu(Z3)\n",
    "\n",
    "    Z4 = dense_forward(A3, W4, b4)\n",
    "    A4 = sigmoid(Z4)\n",
    "\n",
    "    cache = {\n",
    "        \"Z1\": Z1, \"A1\": A1, \"P1\": P1,\n",
    "        \"Z2\": Z2, \"A2\": A2, \"P2\": P2,\n",
    "        \"F\": F, \"Z3\": Z3, \"A3\": A3,\n",
    "        \"Z4\": Z4, \"A4\": A4\n",
    "    }\n",
    "\n",
    "    return A4, cache\n",
    "\n",
    "\n",
    "def backward_propagation(X, Y, parameters, cache):\n",
    "    W1, b1 = parameters[\"W1\"], parameters[\"b1\"]\n",
    "    W2, b2 = parameters[\"W2\"], parameters[\"b2\"]\n",
    "    W3, b3 = parameters[\"W3\"], parameters[\"b3\"]\n",
    "    W4, b4 = parameters[\"W4\"], parameters[\"b4\"]\n",
    "\n",
    "    Z1, A1, P1, Z2, A2, P2 = cache[\"Z1\"], cache[\"A1\"], cache[\"P1\"], cache[\"Z2\"], cache[\"A2\"], cache[\"P2\"]\n",
    "    F, Z3, A3, Z4, A4 = cache[\"F\"], cache[\"Z3\"], cache[\"A3\"], cache[\"Z4\"], cache[\"A4\"]\n",
    "    m = X.shape[0]\n",
    "\n",
    "    dA4 = -(np.divide(Y, A4) - np.divide(1 - Y, 1 - A4))\n",
    "\n",
    "    dZ4 = dA4 * A4 * (1 - A4)\n",
    "    dW4 = np.dot(dZ4, A3.T) / m\n",
    "    db4 = np.sum(dZ4, axis=1, keepdims=True) / m\n",
    "\n",
    "    dA3 = np.dot(W4.T, dZ4)\n",
    "    dZ3 = dA3 * (A3 > 0)\n",
    "    dW3 = np.dot(dZ3, F.T) / m\n",
    "    db3 = np.sum(dZ3, axis=1, keepdims=True) / m\n",
    "\n",
    "    dP2 = np.dot(W3.T, dZ3)\n",
    "    dP2 = dP2.reshape(P2.shape)\n",
    "\n",
    "    dA2 = pool_backward(dP2, A2, mode='max')\n",
    "    dZ2 = dA2 * (A2 > 0)\n",
    "    dA1, dW2, db2 = conv_backward(dZ2, P1, W2, b2, stride=1, pad=0)\n",
    "\n",
    "    dP1 = pool_backward(dA1, A1, mode='max')\n",
    "\n",
    "    dZ1 = dP1 * (A1 > 0)\n",
    "    dA0, dW1, db1 = conv_backward(dZ1, X, W1, b1, stride=1, pad=0)\n",
    "\n",
    "    grads = {\n",
    "        \"dW1\": dW1, \"db1\": db1,\n",
    "        \"dW2\": dW2, \"db2\": db2,\n",
    "        \"dW3\": dW3, \"db3\": db3,\n",
    "        \"dW4\": dW4, \"db4\": db4\n",
    "    }\n",
    "\n",
    "    return grads"
   ]
  },
  {
   "cell_type": "markdown",
   "metadata": {},
   "source": [
    "## Update Parameters"
   ]
  },
  {
   "cell_type": "code",
   "execution_count": 22,
   "metadata": {},
   "outputs": [],
   "source": [
    "def update_parameters(parameters, grads, learning_rate):\n",
    "    parameters[\"W1\"] -= learning_rate * grads[\"dW1\"]\n",
    "    parameters[\"b1\"] -= learning_rate * grads[\"db1\"]\n",
    "    parameters[\"W2\"] -= learning_rate * grads[\"dW2\"]\n",
    "    parameters[\"b2\"] -= learning_rate * grads[\"db2\"]\n",
    "    parameters[\"W3\"] -= learning_rate * grads[\"dW3\"]\n",
    "    parameters[\"b3\"] -= learning_rate * grads[\"db3\"]\n",
    "    parameters[\"W4\"] -= learning_rate * grads[\"dW4\"]\n",
    "    parameters[\"b4\"] -= learning_rate * grads[\"db4\"]\n",
    "\n",
    "    return parameters\n"
   ]
  },
  {
   "cell_type": "markdown",
   "metadata": {},
   "source": [
    "## Compute Loss"
   ]
  },
  {
   "cell_type": "code",
   "execution_count": 23,
   "metadata": {},
   "outputs": [],
   "source": [
    "\n",
    "def compute_loss(A4, Y):\n",
    "    m = Y.shape[0]\n",
    "    cost = -1/m * np.sum(Y * np.log(A4) + (1 - Y) * np.log(1 - A4))\n",
    "    cost = np.squeeze(cost)\n",
    "    return cost"
   ]
  },
  {
   "cell_type": "markdown",
   "metadata": {},
   "source": [
    "## Train Model"
   ]
  },
  {
   "cell_type": "code",
   "execution_count": 24,
   "metadata": {},
   "outputs": [],
   "source": [
    "\n",
    "def train_model(X_train, Y_train, parameters, num_epochs, learning_rate):\n",
    "    costs = []\n",
    "    accuracies = []\n",
    "\n",
    "    for epoch in range(num_epochs):\n",
    "        A4, cache = forward_propagation(X_train, parameters)\n",
    "        cost = compute_loss(A4, Y_train)\n",
    "        grads = backward_propagation(X_train, Y_train, parameters, cache)\n",
    "        parameters = update_parameters(parameters, grads, learning_rate)\n",
    "        \n",
    "        predictions = (A4 > 0.5).astype(int)\n",
    "        accuracy = np.mean(predictions == Y_train)\n",
    "        \n",
    "        if epoch % 100 == 0:\n",
    "            print(f\"Cost after epoch {epoch}: {cost}, Accuracy: {accuracy}\")\n",
    "            costs.append(cost)\n",
    "            accuracies.append(accuracy)\n",
    "    \n",
    "    return parameters, costs, accuracies\n"
   ]
  },
  {
   "cell_type": "markdown",
   "metadata": {},
   "source": [
    "## Evaluation"
   ]
  },
  {
   "cell_type": "code",
   "execution_count": 25,
   "metadata": {},
   "outputs": [],
   "source": [
    "def evaluate_accuracy(X, Y, parameters):\n",
    "    A4, _ = forward_propagation(X, parameters)\n",
    "    predictions = (A4 > 0.5).astype(int)\n",
    "    accuracy = np.mean(predictions == Y)\n",
    "    return accuracy\n"
   ]
  },
  {
   "cell_type": "markdown",
   "metadata": {},
   "source": [
    "## Plots"
   ]
  },
  {
   "cell_type": "code",
   "execution_count": null,
   "metadata": {},
   "outputs": [
    {
     "name": "stderr",
     "output_type": "stream",
     "text": [
      "/var/folders/wd/t26gn6gx5rz1zw4wphrdt0km0000gn/T/ipykernel_28987/1495913819.py:36: DeprecationWarning: Conversion of an array with ndim > 0 to a scalar is deprecated, and will error in future. Ensure you extract a single element from your array before performing this operation. (Deprecated NumPy 1.25.)\n",
      "  Z[i, h, w, c] = np.sum(a_slice_prev * W[:, :, :, c]) + float(b[:, :, :, c])\n"
     ]
    },
    {
     "ename": "KeyboardInterrupt",
     "evalue": "",
     "output_type": "error",
     "traceback": [
      "\u001b[0;31m---------------------------------------------------------------------------\u001b[0m",
      "\u001b[0;31mKeyboardInterrupt\u001b[0m                         Traceback (most recent call last)",
      "Cell \u001b[0;32mIn[26], line 4\u001b[0m\n\u001b[1;32m      2\u001b[0m num_epochs \u001b[38;5;241m=\u001b[39m \u001b[38;5;241m1\u001b[39m\n\u001b[1;32m      3\u001b[0m learning_rate \u001b[38;5;241m=\u001b[39m \u001b[38;5;241m0.01\u001b[39m\n\u001b[0;32m----> 4\u001b[0m parameters, costs, accuracies \u001b[38;5;241m=\u001b[39m \u001b[43mtrain_model\u001b[49m\u001b[43m(\u001b[49m\u001b[43mX_train\u001b[49m\u001b[43m,\u001b[49m\u001b[43m \u001b[49m\u001b[43my_train\u001b[49m\u001b[43m,\u001b[49m\u001b[43m \u001b[49m\u001b[43mparameters\u001b[49m\u001b[43m,\u001b[49m\u001b[43m \u001b[49m\u001b[43mnum_epochs\u001b[49m\u001b[43m,\u001b[49m\u001b[43m \u001b[49m\u001b[43mlearning_rate\u001b[49m\u001b[43m)\u001b[49m\n\u001b[1;32m      5\u001b[0m test_accuracy \u001b[38;5;241m=\u001b[39m evaluate_accuracy(X_test, y_test, parameters)\n\u001b[1;32m      7\u001b[0m plt\u001b[38;5;241m.\u001b[39msubplot(\u001b[38;5;241m1\u001b[39m, \u001b[38;5;241m2\u001b[39m, \u001b[38;5;241m1\u001b[39m)\n",
      "Cell \u001b[0;32mIn[24], line 6\u001b[0m, in \u001b[0;36mtrain_model\u001b[0;34m(X_train, Y_train, parameters, num_epochs, learning_rate)\u001b[0m\n\u001b[1;32m      3\u001b[0m accuracies \u001b[38;5;241m=\u001b[39m []\n\u001b[1;32m      5\u001b[0m \u001b[38;5;28;01mfor\u001b[39;00m epoch \u001b[38;5;129;01min\u001b[39;00m \u001b[38;5;28mrange\u001b[39m(num_epochs):\n\u001b[0;32m----> 6\u001b[0m     A4, cache \u001b[38;5;241m=\u001b[39m \u001b[43mforward_propagation\u001b[49m\u001b[43m(\u001b[49m\u001b[43mX_train\u001b[49m\u001b[43m,\u001b[49m\u001b[43m \u001b[49m\u001b[43mparameters\u001b[49m\u001b[43m)\u001b[49m\n\u001b[1;32m      7\u001b[0m     cost \u001b[38;5;241m=\u001b[39m compute_loss(A4, Y_train)\n\u001b[1;32m      8\u001b[0m     grads \u001b[38;5;241m=\u001b[39m backward_propagation(X_train, Y_train, parameters, cache)\n",
      "Cell \u001b[0;32mIn[21], line 7\u001b[0m, in \u001b[0;36mforward_propagation\u001b[0;34m(X, parameters)\u001b[0m\n\u001b[1;32m      4\u001b[0m W3, b3 \u001b[38;5;241m=\u001b[39m parameters[\u001b[38;5;124m\"\u001b[39m\u001b[38;5;124mW3\u001b[39m\u001b[38;5;124m\"\u001b[39m], parameters[\u001b[38;5;124m\"\u001b[39m\u001b[38;5;124mb3\u001b[39m\u001b[38;5;124m\"\u001b[39m]\n\u001b[1;32m      5\u001b[0m W4, b4 \u001b[38;5;241m=\u001b[39m parameters[\u001b[38;5;124m\"\u001b[39m\u001b[38;5;124mW4\u001b[39m\u001b[38;5;124m\"\u001b[39m], parameters[\u001b[38;5;124m\"\u001b[39m\u001b[38;5;124mb4\u001b[39m\u001b[38;5;124m\"\u001b[39m]\n\u001b[0;32m----> 7\u001b[0m Z1 \u001b[38;5;241m=\u001b[39m \u001b[43mconv_forward\u001b[49m\u001b[43m(\u001b[49m\u001b[43mX\u001b[49m\u001b[43m,\u001b[49m\u001b[43m \u001b[49m\u001b[43mW1\u001b[49m\u001b[43m,\u001b[49m\u001b[43m \u001b[49m\u001b[43mb1\u001b[49m\u001b[43m)\u001b[49m\n\u001b[1;32m      8\u001b[0m A1 \u001b[38;5;241m=\u001b[39m relu(Z1)\n\u001b[1;32m      9\u001b[0m P1 \u001b[38;5;241m=\u001b[39m pool_forward(A1)\n",
      "Cell \u001b[0;32mIn[20], line 36\u001b[0m, in \u001b[0;36mconv_forward\u001b[0;34m(A_prev, W, b, stride, pad)\u001b[0m\n\u001b[1;32m     32\u001b[0m                 horiz_end \u001b[38;5;241m=\u001b[39m horiz_start \u001b[38;5;241m+\u001b[39m f\n\u001b[1;32m     34\u001b[0m                 a_slice_prev \u001b[38;5;241m=\u001b[39m a_prev_pad[vert_start:vert_end, horiz_start:horiz_end, :]\n\u001b[0;32m---> 36\u001b[0m                 Z[i, h, w, c] \u001b[38;5;241m=\u001b[39m \u001b[43mnp\u001b[49m\u001b[38;5;241;43m.\u001b[39;49m\u001b[43msum\u001b[49m\u001b[43m(\u001b[49m\u001b[43ma_slice_prev\u001b[49m\u001b[43m \u001b[49m\u001b[38;5;241;43m*\u001b[39;49m\u001b[43m \u001b[49m\u001b[43mW\u001b[49m\u001b[43m[\u001b[49m\u001b[43m:\u001b[49m\u001b[43m,\u001b[49m\u001b[43m \u001b[49m\u001b[43m:\u001b[49m\u001b[43m,\u001b[49m\u001b[43m \u001b[49m\u001b[43m:\u001b[49m\u001b[43m,\u001b[49m\u001b[43m \u001b[49m\u001b[43mc\u001b[49m\u001b[43m]\u001b[49m\u001b[43m)\u001b[49m \u001b[38;5;241m+\u001b[39m \u001b[38;5;28mfloat\u001b[39m(b[:, :, :, c])\n\u001b[1;32m     38\u001b[0m \u001b[38;5;28;01mreturn\u001b[39;00m Z\n",
      "File \u001b[0;32m~/CNN-Brain-Tumor-Detection/.venv/lib/python3.12/site-packages/numpy/_core/fromnumeric.py:2466\u001b[0m, in \u001b[0;36msum\u001b[0;34m(a, axis, dtype, out, keepdims, initial, where)\u001b[0m\n\u001b[1;32m   2463\u001b[0m         \u001b[38;5;28;01mreturn\u001b[39;00m out\n\u001b[1;32m   2464\u001b[0m     \u001b[38;5;28;01mreturn\u001b[39;00m res\n\u001b[0;32m-> 2466\u001b[0m \u001b[38;5;28;01mreturn\u001b[39;00m \u001b[43m_wrapreduction\u001b[49m\u001b[43m(\u001b[49m\n\u001b[1;32m   2467\u001b[0m \u001b[43m    \u001b[49m\u001b[43ma\u001b[49m\u001b[43m,\u001b[49m\u001b[43m \u001b[49m\u001b[43mnp\u001b[49m\u001b[38;5;241;43m.\u001b[39;49m\u001b[43madd\u001b[49m\u001b[43m,\u001b[49m\u001b[43m \u001b[49m\u001b[38;5;124;43m'\u001b[39;49m\u001b[38;5;124;43msum\u001b[39;49m\u001b[38;5;124;43m'\u001b[39;49m\u001b[43m,\u001b[49m\u001b[43m \u001b[49m\u001b[43maxis\u001b[49m\u001b[43m,\u001b[49m\u001b[43m \u001b[49m\u001b[43mdtype\u001b[49m\u001b[43m,\u001b[49m\u001b[43m \u001b[49m\u001b[43mout\u001b[49m\u001b[43m,\u001b[49m\n\u001b[1;32m   2468\u001b[0m \u001b[43m    \u001b[49m\u001b[43mkeepdims\u001b[49m\u001b[38;5;241;43m=\u001b[39;49m\u001b[43mkeepdims\u001b[49m\u001b[43m,\u001b[49m\u001b[43m \u001b[49m\u001b[43minitial\u001b[49m\u001b[38;5;241;43m=\u001b[39;49m\u001b[43minitial\u001b[49m\u001b[43m,\u001b[49m\u001b[43m \u001b[49m\u001b[43mwhere\u001b[49m\u001b[38;5;241;43m=\u001b[39;49m\u001b[43mwhere\u001b[49m\n\u001b[1;32m   2469\u001b[0m \u001b[43m\u001b[49m\u001b[43m)\u001b[49m\n",
      "File \u001b[0;32m~/CNN-Brain-Tumor-Detection/.venv/lib/python3.12/site-packages/numpy/_core/fromnumeric.py:86\u001b[0m, in \u001b[0;36m_wrapreduction\u001b[0;34m(obj, ufunc, method, axis, dtype, out, **kwargs)\u001b[0m\n\u001b[1;32m     83\u001b[0m         \u001b[38;5;28;01melse\u001b[39;00m:\n\u001b[1;32m     84\u001b[0m             \u001b[38;5;28;01mreturn\u001b[39;00m reduction(axis\u001b[38;5;241m=\u001b[39maxis, out\u001b[38;5;241m=\u001b[39mout, \u001b[38;5;241m*\u001b[39m\u001b[38;5;241m*\u001b[39mpasskwargs)\n\u001b[0;32m---> 86\u001b[0m \u001b[38;5;28;01mreturn\u001b[39;00m \u001b[43mufunc\u001b[49m\u001b[38;5;241;43m.\u001b[39;49m\u001b[43mreduce\u001b[49m\u001b[43m(\u001b[49m\u001b[43mobj\u001b[49m\u001b[43m,\u001b[49m\u001b[43m \u001b[49m\u001b[43maxis\u001b[49m\u001b[43m,\u001b[49m\u001b[43m \u001b[49m\u001b[43mdtype\u001b[49m\u001b[43m,\u001b[49m\u001b[43m \u001b[49m\u001b[43mout\u001b[49m\u001b[43m,\u001b[49m\u001b[43m \u001b[49m\u001b[38;5;241;43m*\u001b[39;49m\u001b[38;5;241;43m*\u001b[39;49m\u001b[43mpasskwargs\u001b[49m\u001b[43m)\u001b[49m\n",
      "\u001b[0;31mKeyboardInterrupt\u001b[0m: "
     ]
    }
   ],
   "source": [
    "parameters = initialize_parameters()\n",
    "num_epochs = 1000\n",
    "learning_rate = 0.01\n",
    "parameters, costs, accuracies = train_model(X_train, y_train, parameters, num_epochs, learning_rate)\n",
    "test_accuracy = evaluate_accuracy(X_test, y_test, parameters)\n",
    "\n",
    "plt.subplot(1, 2, 1)\n",
    "plt.plot(costs)\n",
    "plt.ylabel('Cost')\n",
    "plt.xlabel('Epoch (per 100)')\n",
    "plt.title('Cost reduction over time')\n",
    "\n",
    "plt.subplot(1, 2, 2)\n",
    "plt.ylabel('Accuracy')\n",
    "plt.xlabel('Epoch (per 100)')\n",
    "plt.title('Accuracy over time')\n",
    "\n",
    "plt.show()\n",
    "\n",
    "\n",
    "print(f\"Test Accuracy: {test_accuracy}\")"
   ]
  }
 ],
 "metadata": {
  "kernelspec": {
   "display_name": ".venv",
   "language": "python",
   "name": "python3"
  },
  "language_info": {
   "codemirror_mode": {
    "name": "ipython",
    "version": 3
   },
   "file_extension": ".py",
   "mimetype": "text/x-python",
   "name": "python",
   "nbconvert_exporter": "python",
   "pygments_lexer": "ipython3",
   "version": "3.12.2"
  }
 },
 "nbformat": 4,
 "nbformat_minor": 2
}
